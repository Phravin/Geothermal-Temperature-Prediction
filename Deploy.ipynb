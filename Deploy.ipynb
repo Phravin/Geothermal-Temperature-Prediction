{
 "cells": [
  {
   "cell_type": "markdown",
   "id": "5eea8df5",
   "metadata": {},
   "source": [
    "**Importing the real dataset**                                                           "
   ]
  },
  {
   "cell_type": "code",
   "execution_count": 28,
   "id": "188d5024",
   "metadata": {},
   "outputs": [
    {
     "data": {
      "text/html": [
       "<div>\n",
       "<style scoped>\n",
       "    .dataframe tbody tr th:only-of-type {\n",
       "        vertical-align: middle;\n",
       "    }\n",
       "\n",
       "    .dataframe tbody tr th {\n",
       "        vertical-align: top;\n",
       "    }\n",
       "\n",
       "    .dataframe thead th {\n",
       "        text-align: right;\n",
       "    }\n",
       "</style>\n",
       "<table border=\"1\" class=\"dataframe\">\n",
       "  <thead>\n",
       "    <tr style=\"text-align: right;\">\n",
       "      <th></th>\n",
       "      <th>LatDegree</th>\n",
       "      <th>LongDegree</th>\n",
       "      <th>MeasureDepth_m</th>\n",
       "      <th>SurfTemp</th>\n",
       "    </tr>\n",
       "  </thead>\n",
       "  <tbody>\n",
       "    <tr>\n",
       "      <th>0</th>\n",
       "      <td>37.380642</td>\n",
       "      <td>-82.700860</td>\n",
       "      <td>1021.99</td>\n",
       "      <td>14.99</td>\n",
       "    </tr>\n",
       "    <tr>\n",
       "      <th>1</th>\n",
       "      <td>37.410835</td>\n",
       "      <td>-82.702323</td>\n",
       "      <td>973.84</td>\n",
       "      <td>14.99</td>\n",
       "    </tr>\n",
       "    <tr>\n",
       "      <th>2</th>\n",
       "      <td>37.405493</td>\n",
       "      <td>-82.652496</td>\n",
       "      <td>962.86</td>\n",
       "      <td>15.04</td>\n",
       "    </tr>\n",
       "    <tr>\n",
       "      <th>3</th>\n",
       "      <td>37.509499</td>\n",
       "      <td>-82.668528</td>\n",
       "      <td>906.48</td>\n",
       "      <td>14.69</td>\n",
       "    </tr>\n",
       "    <tr>\n",
       "      <th>4</th>\n",
       "      <td>37.398042</td>\n",
       "      <td>-82.678669</td>\n",
       "      <td>1130.81</td>\n",
       "      <td>14.99</td>\n",
       "    </tr>\n",
       "    <tr>\n",
       "      <th>...</th>\n",
       "      <td>...</td>\n",
       "      <td>...</td>\n",
       "      <td>...</td>\n",
       "      <td>...</td>\n",
       "    </tr>\n",
       "    <tr>\n",
       "      <th>95</th>\n",
       "      <td>37.392481</td>\n",
       "      <td>-82.662053</td>\n",
       "      <td>1009.50</td>\n",
       "      <td>15.04</td>\n",
       "    </tr>\n",
       "    <tr>\n",
       "      <th>96</th>\n",
       "      <td>37.666696</td>\n",
       "      <td>-82.637182</td>\n",
       "      <td>801.01</td>\n",
       "      <td>14.50</td>\n",
       "    </tr>\n",
       "    <tr>\n",
       "      <th>97</th>\n",
       "      <td>37.620100</td>\n",
       "      <td>-82.618600</td>\n",
       "      <td>1019.86</td>\n",
       "      <td>14.50</td>\n",
       "    </tr>\n",
       "    <tr>\n",
       "      <th>98</th>\n",
       "      <td>37.656288</td>\n",
       "      <td>-82.711678</td>\n",
       "      <td>789.74</td>\n",
       "      <td>14.47</td>\n",
       "    </tr>\n",
       "    <tr>\n",
       "      <th>99</th>\n",
       "      <td>37.656021</td>\n",
       "      <td>-82.707033</td>\n",
       "      <td>842.77</td>\n",
       "      <td>14.47</td>\n",
       "    </tr>\n",
       "  </tbody>\n",
       "</table>\n",
       "<p>100 rows × 4 columns</p>\n",
       "</div>"
      ],
      "text/plain": [
       "    LatDegree  LongDegree  MeasureDepth_m  SurfTemp\n",
       "0   37.380642  -82.700860         1021.99     14.99\n",
       "1   37.410835  -82.702323          973.84     14.99\n",
       "2   37.405493  -82.652496          962.86     15.04\n",
       "3   37.509499  -82.668528          906.48     14.69\n",
       "4   37.398042  -82.678669         1130.81     14.99\n",
       "..        ...         ...             ...       ...\n",
       "95  37.392481  -82.662053         1009.50     15.04\n",
       "96  37.666696  -82.637182          801.01     14.50\n",
       "97  37.620100  -82.618600         1019.86     14.50\n",
       "98  37.656288  -82.711678          789.74     14.47\n",
       "99  37.656021  -82.707033          842.77     14.47\n",
       "\n",
       "[100 rows x 4 columns]"
      ]
     },
     "execution_count": 28,
     "metadata": {},
     "output_type": "execute_result"
    }
   ],
   "source": [
    "#importing the deploy data\n",
    "import numpy as np\n",
    "import pandas as pd        \n",
    "deploy = pd.read_excel('Deploy_data.xlsx')\n",
    "X_deploy = deploy.iloc[:,:4]\n",
    "X_deploy"
   ]
  },
  {
   "cell_type": "markdown",
   "id": "e6ad138e",
   "metadata": {},
   "source": [
    "**Importing the Preprocessors**"
   ]
  },
  {
   "cell_type": "code",
   "execution_count": 29,
   "id": "ac0b5151",
   "metadata": {},
   "outputs": [],
   "source": [
    "#importing scaler and outlier to deploy the given data\n",
    "import pickle\n",
    "\n",
    "scl = pickle.load( open( 'Prediction_Scalers.sav', \"rb\" ) )\n",
    "\n",
    "out = pickle.load( open( 'Prediction_Outliers.sav', \"rb\" ) )"
   ]
  },
  {
   "cell_type": "markdown",
   "id": "5135f14c",
   "metadata": {},
   "source": [
    "**Importing the Best Performing Models**"
   ]
  },
  {
   "cell_type": "code",
   "execution_count": 30,
   "id": "bf4423bd",
   "metadata": {},
   "outputs": [],
   "source": [
    "model_0 = pickle.load( open( f'model_0.sav', \"rb\" ) )\n",
    "model_1 = pickle.load( open( f'model_1.sav', \"rb\" ) )\n",
    "model_2 = pickle.load( open( f'model_2.sav', \"rb\" ) )\n",
    "model_3 = pickle.load( open( f'model_3.sav', \"rb\" ) )\n",
    "model_4 = pickle.load( open( f'model_4.sav', \"rb\" ) )"
   ]
  },
  {
   "cell_type": "markdown",
   "id": "d7d53b16",
   "metadata": {},
   "source": [
    "**Separating the inliers**"
   ]
  },
  {
   "cell_type": "code",
   "execution_count": 31,
   "id": "4aafed09",
   "metadata": {},
   "outputs": [
    {
     "name": "stderr",
     "output_type": "stream",
     "text": [
      "C:\\Users\\Vino\\anaconda3\\lib\\site-packages\\sklearn\\base.py:457: UserWarning: X has feature names, but IsolationForest was fitted without feature names\n",
      "  warnings.warn(\n",
      "C:\\Users\\Vino\\anaconda3\\lib\\site-packages\\sklearn\\base.py:457: UserWarning: X has feature names, but StandardScaler was fitted without feature names\n",
      "  warnings.warn(\n"
     ]
    }
   ],
   "source": [
    "#Storing the inlier values in X_i\n",
    "X_i = X_deploy[out.predict(X_deploy) == 1]\n",
    "deploy_s = scl.transform(X_i)"
   ]
  },
  {
   "cell_type": "markdown",
   "id": "8749d1cf",
   "metadata": {},
   "source": [
    "**Prediction of Bottom Hole Temperature using the best performing models**"
   ]
  },
  {
   "cell_type": "code",
   "execution_count": 32,
   "id": "4212eea3",
   "metadata": {},
   "outputs": [],
   "source": [
    "#prediction of bottom hole temperature with the imported models and deployment inlier data\n",
    "model_0_p = model_0.predict(deploy_s)\n",
    "model_1_p = model_1.predict(deploy_s)\n",
    "model_2_p = model_3.predict(deploy_s)\n",
    "model_3_p = model_3.predict(deploy_s)\n",
    "model_4_p = model_4.predict(deploy_s)"
   ]
  },
  {
   "cell_type": "markdown",
   "id": "abe3481c",
   "metadata": {},
   "source": [
    "**Calculation of Mean and range of the bottom hole temperature**"
   ]
  },
  {
   "cell_type": "code",
   "execution_count": 33,
   "id": "0fe45bb3",
   "metadata": {},
   "outputs": [],
   "source": [
    "#calculating the mean and the range of the predictions\n",
    "all_models_predictions = [model_0_p, model_1_p, model_2_p, model_3_p, model_4_p]\n",
    "all_models_predictions\n",
    "mean_predictions = np.mean(all_models_predictions,axis=0)\n",
    "range_predictions = np.ptp(all_models_predictions,axis=0)"
   ]
  },
  {
   "cell_type": "markdown",
   "id": "ad32ae27",
   "metadata": {},
   "source": [
    "**Exporting the Predicted Values**"
   ]
  },
  {
   "cell_type": "code",
   "execution_count": 34,
   "id": "7ed63ad6",
   "metadata": {},
   "outputs": [],
   "source": [
    "#Inserting the mean and range values in the pandas dataframe\n",
    "predict=pd.DataFrame(scl.inverse_transform(deploy_s),columns=[\"LatDegree\",\"LongDegree\",\"MeasureDepth_m\",\"SurfTemp\"])\n",
    "predict.insert(4,'Mean_BHT',mean_predictions)\n",
    "predict.insert(5,'Range_BHT',range_predictions)\n",
    "#Pandas dataframe to excel\n",
    "predict.to_excel('Deploy_Results_PX_AJ.xlsx',index=False)"
   ]
  }
 ],
 "metadata": {
  "kernelspec": {
   "display_name": "Python 3 (ipykernel)",
   "language": "python",
   "name": "python3"
  },
  "language_info": {
   "codemirror_mode": {
    "name": "ipython",
    "version": 3
   },
   "file_extension": ".py",
   "mimetype": "text/x-python",
   "name": "python",
   "nbconvert_exporter": "python",
   "pygments_lexer": "ipython3",
   "version": "3.9.13"
  }
 },
 "nbformat": 4,
 "nbformat_minor": 5
}
